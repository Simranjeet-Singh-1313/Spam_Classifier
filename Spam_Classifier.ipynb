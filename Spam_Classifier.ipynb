{
  "nbformat": 4,
  "nbformat_minor": 0,
  "metadata": {
    "colab": {
      "name": "Spam_Classifier(NLP).ipynb",
      "provenance": [],
      "authorship_tag": "ABX9TyNOvV+6ECJPc4hH3gHSb4Rm",
      "include_colab_link": true
    },
    "kernelspec": {
      "name": "python3",
      "display_name": "Python 3"
    },
    "language_info": {
      "name": "python"
    }
  },
  "cells": [
    {
      "cell_type": "markdown",
      "metadata": {
        "id": "view-in-github",
        "colab_type": "text"
      },
      "source": [
        "<a href=\"https://colab.research.google.com/github/Simranjeet-Singh-1313/Spam_Classifier/blob/main/Spam_Classifier.ipynb\" target=\"_parent\"><img src=\"https://colab.research.google.com/assets/colab-badge.svg\" alt=\"Open In Colab\"/></a>"
      ]
    },
    {
      "cell_type": "code",
      "metadata": {
        "id": "Z-_QYrz_jxPk",
        "colab": {
          "base_uri": "https://localhost:8080/"
        },
        "outputId": "1aeb7a3c-b116-4cb7-bcaa-661948ea4672"
      },
      "source": [
        "import pandas as pd\n",
        "import nltk\n",
        "from nltk.corpus import stopwords\n",
        "from nltk.stem import WordNetLemmatizer\n",
        "nltk.download('wordnet')\n",
        "nltk.download(\"stopwords\")\n",
        "from sklearn.feature_extraction.text import CountVectorizer\n",
        "import re\n",
        "import matplotlib.pyplot as plt\n",
        "import seaborn as sns\n",
        "from imblearn.over_sampling import SMOTE"
      ],
      "execution_count": 420,
      "outputs": [
        {
          "output_type": "stream",
          "text": [
            "[nltk_data] Downloading package wordnet to /root/nltk_data...\n",
            "[nltk_data]   Package wordnet is already up-to-date!\n",
            "[nltk_data] Downloading package stopwords to /root/nltk_data...\n",
            "[nltk_data]   Package stopwords is already up-to-date!\n"
          ],
          "name": "stdout"
        }
      ]
    },
    {
      "cell_type": "markdown",
      "metadata": {
        "id": "tyPxFP9Sc1Ch"
      },
      "source": [
        "## preprocessing\n"
      ]
    },
    {
      "cell_type": "code",
      "metadata": {
        "id": "GoWwZxK9rsmb"
      },
      "source": [
        "# dataset read\n",
        "messages = pd.read_csv('SMSSpamCollection', sep='\\t',\n",
        "                           names=[\"label\", \"message\"])"
      ],
      "execution_count": 421,
      "outputs": []
    },
    {
      "cell_type": "code",
      "metadata": {
        "colab": {
          "base_uri": "https://localhost:8080/",
          "height": 204
        },
        "id": "UluYZjUrukJH",
        "outputId": "d74dae32-f30f-4ec2-beca-17bcf16d5f70"
      },
      "source": [
        "messages.head()"
      ],
      "execution_count": 422,
      "outputs": [
        {
          "output_type": "execute_result",
          "data": {
            "text/html": [
              "<div>\n",
              "<style scoped>\n",
              "    .dataframe tbody tr th:only-of-type {\n",
              "        vertical-align: middle;\n",
              "    }\n",
              "\n",
              "    .dataframe tbody tr th {\n",
              "        vertical-align: top;\n",
              "    }\n",
              "\n",
              "    .dataframe thead th {\n",
              "        text-align: right;\n",
              "    }\n",
              "</style>\n",
              "<table border=\"1\" class=\"dataframe\">\n",
              "  <thead>\n",
              "    <tr style=\"text-align: right;\">\n",
              "      <th></th>\n",
              "      <th>label</th>\n",
              "      <th>message</th>\n",
              "    </tr>\n",
              "  </thead>\n",
              "  <tbody>\n",
              "    <tr>\n",
              "      <th>0</th>\n",
              "      <td>ham</td>\n",
              "      <td>Go until jurong point, crazy.. Available only ...</td>\n",
              "    </tr>\n",
              "    <tr>\n",
              "      <th>1</th>\n",
              "      <td>ham</td>\n",
              "      <td>Ok lar... Joking wif u oni...</td>\n",
              "    </tr>\n",
              "    <tr>\n",
              "      <th>2</th>\n",
              "      <td>spam</td>\n",
              "      <td>Free entry in 2 a wkly comp to win FA Cup fina...</td>\n",
              "    </tr>\n",
              "    <tr>\n",
              "      <th>3</th>\n",
              "      <td>ham</td>\n",
              "      <td>U dun say so early hor... U c already then say...</td>\n",
              "    </tr>\n",
              "    <tr>\n",
              "      <th>4</th>\n",
              "      <td>ham</td>\n",
              "      <td>Nah I don't think he goes to usf, he lives aro...</td>\n",
              "    </tr>\n",
              "  </tbody>\n",
              "</table>\n",
              "</div>"
            ],
            "text/plain": [
              "  label                                            message\n",
              "0   ham  Go until jurong point, crazy.. Available only ...\n",
              "1   ham                      Ok lar... Joking wif u oni...\n",
              "2  spam  Free entry in 2 a wkly comp to win FA Cup fina...\n",
              "3   ham  U dun say so early hor... U c already then say...\n",
              "4   ham  Nah I don't think he goes to usf, he lives aro..."
            ]
          },
          "metadata": {
            "tags": []
          },
          "execution_count": 422
        }
      ]
    },
    {
      "cell_type": "code",
      "metadata": {
        "colab": {
          "base_uri": "https://localhost:8080/",
          "height": 111
        },
        "id": "HZueE9roumGj",
        "outputId": "2e73e11e-ae68-470d-d749-36ddc23dc63d"
      },
      "source": [
        "# count number of true and false values\n",
        "pd.DataFrame(messages['label'].value_counts())"
      ],
      "execution_count": 423,
      "outputs": [
        {
          "output_type": "execute_result",
          "data": {
            "text/html": [
              "<div>\n",
              "<style scoped>\n",
              "    .dataframe tbody tr th:only-of-type {\n",
              "        vertical-align: middle;\n",
              "    }\n",
              "\n",
              "    .dataframe tbody tr th {\n",
              "        vertical-align: top;\n",
              "    }\n",
              "\n",
              "    .dataframe thead th {\n",
              "        text-align: right;\n",
              "    }\n",
              "</style>\n",
              "<table border=\"1\" class=\"dataframe\">\n",
              "  <thead>\n",
              "    <tr style=\"text-align: right;\">\n",
              "      <th></th>\n",
              "      <th>label</th>\n",
              "    </tr>\n",
              "  </thead>\n",
              "  <tbody>\n",
              "    <tr>\n",
              "      <th>ham</th>\n",
              "      <td>4825</td>\n",
              "    </tr>\n",
              "    <tr>\n",
              "      <th>spam</th>\n",
              "      <td>747</td>\n",
              "    </tr>\n",
              "  </tbody>\n",
              "</table>\n",
              "</div>"
            ],
            "text/plain": [
              "      label\n",
              "ham    4825\n",
              "spam    747"
            ]
          },
          "metadata": {
            "tags": []
          },
          "execution_count": 423
        }
      ]
    },
    {
      "cell_type": "code",
      "metadata": {
        "colab": {
          "base_uri": "https://localhost:8080/",
          "height": 368
        },
        "id": "7LJzR5mLvDxL",
        "outputId": "d9cebdc6-0b12-4c41-966f-7f58c4bd6129"
      },
      "source": [
        "# plot ham & spam in messages\n",
        "plt.figure(figsize=(10,5))\n",
        "sns.set_theme(style=\"darkgrid\")\n",
        "ax = sns.countplot(x=\"label\", data=messages)\n",
        "# plt.xlabel('ham & spam', fontsize = 15)\n",
        "plt.title('ham & spam', fontsize = 30)\n",
        "ax = sns.countplot(x=\"label\",hue='label', data=messages)"
      ],
      "execution_count": 424,
      "outputs": [
        {
          "output_type": "display_data",
          "data": {
            "image/png": "[encoded data removed]",
            "text/plain": [
              "<Figure size 720x360 with 1 Axes>"
            ]
          },
          "metadata": {
            "tags": []
          }
        }
      ]
    },
    {
      "cell_type": "code",
      "metadata": {
        "id": "u6_z1wfw4Eps"
      },
      "source": [
        "wordnet=WordNetLemmatizer()\n",
        "stop = stopwords.words('english')"
      ],
      "execution_count": 425,
      "outputs": []
    },
    {
      "cell_type": "code",
      "metadata": {
        "id": "c1d1gMjs3-UN"
      },
      "source": [
        "corpus = []\n",
        "for i in range(0, len(messages)):\n",
        "    review = re.sub('[^a-zA-Z]', ' ', messages['message'][i])\n",
        "    review = review.lower()\n",
        "    review = review.split()\n",
        "    review = [wordnet.lemmatize(word) for word in review if not word in stop]\n",
        "    review = ' '.join(review)\n",
        "    corpus.append(review)"
      ],
      "execution_count": 426,
      "outputs": []
    },
    {
      "cell_type": "code",
      "metadata": {
        "colab": {
          "base_uri": "https://localhost:8080/",
          "height": 35
        },
        "id": "6d0iaXxt3-Ry",
        "outputId": "bed8767c-83b1-409d-ceb2-ad1bd9f645da"
      },
      "source": [
        "messages[\"message\"][0]"
      ],
      "execution_count": 427,
      "outputs": [
        {
          "output_type": "execute_result",
          "data": {
            "application/vnd.google.colaboratory.intrinsic+json": {
              "type": "string"
            },
            "text/plain": [
              "'Go until jurong point, crazy.. Available only in bugis n great world la e buffet... Cine there got amore wat...'"
            ]
          },
          "metadata": {
            "tags": []
          },
          "execution_count": 427
        }
      ]
    },
    {
      "cell_type": "code",
      "metadata": {
        "colab": {
          "base_uri": "https://localhost:8080/",
          "height": 35
        },
        "id": "jm9vZ_N13-PF",
        "outputId": "a67fbf6d-e7a2-42f2-91ae-6ed7e144d988"
      },
      "source": [
        "corpus[0]"
      ],
      "execution_count": 428,
      "outputs": [
        {
          "output_type": "execute_result",
          "data": {
            "application/vnd.google.colaboratory.intrinsic+json": {
              "type": "string"
            },
            "text/plain": [
              "'go jurong point crazy available bugis n great world la e buffet cine got amore wat'"
            ]
          },
          "metadata": {
            "tags": []
          },
          "execution_count": 428
        }
      ]
    },
    {
      "cell_type": "code",
      "metadata": {
        "id": "tA7Ias8k3-AG"
      },
      "source": [
        "from sklearn.feature_extraction.text import CountVectorizer\n",
        "cv = CountVectorizer(max_features=3000)\n",
        "X = cv.fit_transform(corpus).toarray()"
      ],
      "execution_count": 429,
      "outputs": []
    },
    {
      "cell_type": "code",
      "metadata": {
        "id": "6FgIiQ6f1hvT"
      },
      "source": [
        "y=pd.get_dummies(messages['label'])\n",
        "y=y.iloc[:,1].values"
      ],
      "execution_count": 430,
      "outputs": []
    },
    {
      "cell_type": "code",
      "metadata": {
        "colab": {
          "base_uri": "https://localhost:8080/"
        },
        "id": "GEhusQvTvmFB",
        "outputId": "ca6f9f66-b6d1-4cd5-ac6a-3fa4a2075cee"
      },
      "source": [
        "# from imblearn.over_sampling as SMOTE\n",
        "smote = SMOTE(sampling_strategy='minority');\n",
        "x_smote, y_smote = smote.fit_sample(X,y);\n",
        "\n",
        "print(\"Shape of x_smote :\", x_smote.shape)\n",
        "print(\"Shape of y_smote :\", y_smote.shape)"
      ],
      "execution_count": 431,
      "outputs": [
        {
          "output_type": "stream",
          "text": [
            "/usr/local/lib/python3.7/dist-packages/sklearn/utils/deprecation.py:87: FutureWarning: Function safe_indexing is deprecated; safe_indexing is deprecated in version 0.22 and will be removed in version 0.24.\n",
            "  warnings.warn(msg, category=FutureWarning)\n"
          ],
          "name": "stderr"
        },
        {
          "output_type": "stream",
          "text": [
            "Shape of x_smote : (9650, 3000)\n",
            "Shape of y_smote : (9650,)\n"
          ],
          "name": "stdout"
        }
      ]
    },
    {
      "cell_type": "code",
      "metadata": {
        "colab": {
          "base_uri": "https://localhost:8080/",
          "height": 458
        },
        "id": "YMUJhLGgGvKp",
        "outputId": "0f0ed82f-31c5-41b7-d2e2-a17193e13986"
      },
      "source": [
        "# Plotting a pie chart for label after balancing the dataset\n",
        "list_label=pd.DataFrame(y_smote)\n",
        "plt.figure(figsize=(6,7))\n",
        "list_label.value_counts().plot(kind='pie',autopct='%1.1f%%',textprops={'fontsize': 15},startangle=90,explode =(0.02,0),colors=['slategray','B'])\n",
        "plt.title('Ham & Spam', fontsize = 20)\n",
        "plt.ylabel('')\n",
        "plt.legend()"
      ],
      "execution_count": 432,
      "outputs": [
        {
          "output_type": "stream",
          "text": [
            "/usr/local/lib/python3.7/dist-packages/pandas/plotting/_matplotlib/core.py:1547: MatplotlibDeprecationWarning: Support for uppercase single-letter colors is deprecated since Matplotlib 3.1 and will be removed in 3.3; please use lowercase instead.\n",
            "  results = ax.pie(y, labels=blabels, **kwds)\n"
          ],
          "name": "stderr"
        },
        {
          "output_type": "execute_result",
          "data": {
            "text/plain": [
              "<matplotlib.legend.Legend at 0x7f6f234bf990>"
            ]
          },
          "metadata": {
            "tags": []
          },
          "execution_count": 432
        },
        {
          "output_type": "display_data",
          "data": {
            "image/png": "[encoded data removed]",
            "text/plain": [
              "<Figure size 432x504 with 1 Axes>"
            ]
          },
          "metadata": {
            "tags": []
          }
        }
      ]
    },
    {
      "cell_type": "code",
      "metadata": {
        "colab": {
          "base_uri": "https://localhost:8080/",
          "height": 142
        },
        "id": "-3PLL50iHKSj",
        "outputId": "473b9ac2-216a-436b-8dcf-59c73d432f9c"
      },
      "source": [
        "# count number of Hams and Spams values\n",
        "count_label=pd.DataFrame(list_label.value_counts())\n",
        "count_label.rename(columns = {0:\"Label\"},index={1:\"Ham\",0:\"Spam\"}, inplace = True)\n",
        "count_label"
      ],
      "execution_count": 433,
      "outputs": [
        {
          "output_type": "execute_result",
          "data": {
            "text/html": [
              "<div>\n",
              "<style scoped>\n",
              "    .dataframe tbody tr th:only-of-type {\n",
              "        vertical-align: middle;\n",
              "    }\n",
              "\n",
              "    .dataframe tbody tr th {\n",
              "        vertical-align: top;\n",
              "    }\n",
              "\n",
              "    .dataframe thead th {\n",
              "        text-align: right;\n",
              "    }\n",
              "</style>\n",
              "<table border=\"1\" class=\"dataframe\">\n",
              "  <thead>\n",
              "    <tr style=\"text-align: right;\">\n",
              "      <th></th>\n",
              "      <th>Label</th>\n",
              "    </tr>\n",
              "    <tr>\n",
              "      <th>0</th>\n",
              "      <th></th>\n",
              "    </tr>\n",
              "  </thead>\n",
              "  <tbody>\n",
              "    <tr>\n",
              "      <th>Ham</th>\n",
              "      <td>4825</td>\n",
              "    </tr>\n",
              "    <tr>\n",
              "      <th>Spam</th>\n",
              "      <td>4825</td>\n",
              "    </tr>\n",
              "  </tbody>\n",
              "</table>\n",
              "</div>"
            ],
            "text/plain": [
              "      Label\n",
              "0          \n",
              "Ham    4825\n",
              "Spam   4825"
            ]
          },
          "metadata": {
            "tags": []
          },
          "execution_count": 433
        }
      ]
    },
    {
      "cell_type": "code",
      "metadata": {
        "id": "UYTA5MmuyeRj"
      },
      "source": [
        "# split dataset into two parts (train and test)\n",
        "from sklearn.model_selection import train_test_split\n",
        "X_train, X_test, y_train, y_test = train_test_split(x_smote, y_smote, test_size=0.30,stratify=y_smote)"
      ],
      "execution_count": 434,
      "outputs": []
    },
    {
      "cell_type": "markdown",
      "metadata": {
        "id": "y583x3GEb53A"
      },
      "source": [
        "## Model implementation"
      ]
    },
    {
      "cell_type": "code",
      "metadata": {
        "id": "EjY0_giE1_PI"
      },
      "source": [
        "#define Confusion matrix function\n",
        "def ConfusionMatrix(A,B):\n",
        "  CM=confusion_matrix(A, B)\n",
        "  fig, ax = plot_confusion_matrix(CM,show_absolute=True,show_normed=True,colorbar=True)\n",
        "  plt.show()"
      ],
      "execution_count": 435,
      "outputs": []
    },
    {
      "cell_type": "markdown",
      "metadata": {
        "id": "pvGrwBEkcI4X"
      },
      "source": [
        "### Multinomianl Naive Bayes"
      ]
    },
    {
      "cell_type": "code",
      "metadata": {
        "colab": {
          "base_uri": "https://localhost:8080/",
          "height": 474
        },
        "id": "l9RZUUlh-qSk",
        "outputId": "7efe01ae-2369-48bd-b6a0-3cda03177086"
      },
      "source": [
        "# define Multinomianl Naive bayes classifier\n",
        "spam_detect_model = MultinomialNB().fit(X_train, y_train)\n",
        "y_predict=spam_detect_model.predict(X_test)\n",
        "\n",
        "# evaluating the model\n",
        "print(\"Training Accuracy :\", spam_detect_model.score(X_train, y_train))\n",
        "print(\"Testing Accuracy :\", spam_detect_model.score(X_test, y_test))\n",
        "\n",
        "# eveluate confusion matrix\n",
        "print(classification_report(y_test,y_predict))\n",
        "\n",
        "\n",
        "# confusion matrix\n",
        "ConfusionMatrix(y_test,y_predict)"
      ],
      "execution_count": 436,
      "outputs": [
        {
          "output_type": "stream",
          "text": [
            "Training Accuracy : 0.9748334566987417\n",
            "Testing Accuracy : 0.9727115716753022\n",
            "              precision    recall  f1-score   support\n",
            "\n",
            "           0       0.97      0.97      0.97      1448\n",
            "           1       0.97      0.97      0.97      1447\n",
            "\n",
            "    accuracy                           0.97      2895\n",
            "   macro avg       0.97      0.97      0.97      2895\n",
            "weighted avg       0.97      0.97      0.97      2895\n",
            "\n"
          ],
          "name": "stdout"
        },
        {
          "output_type": "display_data",
          "data": {
            "image/png": "[encoded data removed]",
            "text/plain": [
              "<Figure size 432x288 with 2 Axes>"
            ]
          },
          "metadata": {
            "tags": []
          }
        }
      ]
    },
    {
      "cell_type": "markdown",
      "metadata": {
        "id": "U2Z75wJ9cWDm"
      },
      "source": [
        "### SVM"
      ]
    },
    {
      "cell_type": "code",
      "metadata": {
        "colab": {
          "base_uri": "https://localhost:8080/",
          "height": 472
        },
        "id": "YqI_0lDhSWia",
        "outputId": "19fc1ff3-63c8-4b3d-f120-9e5ee3de9e4f"
      },
      "source": [
        "# define svm classifier\n",
        "model=svm.SVC()\n",
        "model.fit(X_train,y_train)\n",
        "y_predict=model.predict(X_test)\n",
        "\n",
        "# evaluating the model\n",
        "print(\"Training Accuracy :\", model.score(X_train, y_train))\n",
        "print(\"Testing Accuracy :\", model.score(X_test, y_test))\n",
        "\n",
        "# eveluate confusion matrix\n",
        "print(classification_report(y_test,y_predict))\n",
        "\n",
        "# confusion matrix\n",
        "ConfusionMatrix(y_test,y_predict)"
      ],
      "execution_count": 437,
      "outputs": [
        {
          "output_type": "stream",
          "text": [
            "Training Accuracy : 0.9766099185788305\n",
            "Testing Accuracy : 0.9450777202072539\n",
            "              precision    recall  f1-score   support\n",
            "\n",
            "           0       0.96      0.92      0.94      1448\n",
            "           1       0.93      0.97      0.95      1447\n",
            "\n",
            "    accuracy                           0.95      2895\n",
            "   macro avg       0.95      0.95      0.95      2895\n",
            "weighted avg       0.95      0.95      0.95      2895\n",
            "\n"
          ],
          "name": "stdout"
        },
        {
          "output_type": "display_data",
          "data": {
            "image/png": "[encoded data removed]",
            "text/plain": [
              "<Figure size 432x288 with 2 Axes>"
            ]
          },
          "metadata": {
            "tags": []
          }
        }
      ]
    },
    {
      "cell_type": "code",
      "metadata": {
        "id": "O4zcY8lJ_hhr"
      },
      "source": [
        ""
      ],
      "execution_count": 437,
      "outputs": []
    }
  ]
}